{
 "cells": [
  {
   "cell_type": "code",
   "execution_count": null,
   "id": "c4275a73",
   "metadata": {},
   "outputs": [],
   "source": [
    "import numpy as np\n",
    "import pandas as pd\n",
    "from termcolor import colored"
   ]
  },
  {
   "cell_type": "code",
   "execution_count": null,
   "id": "f7e519d2",
   "metadata": {},
   "outputs": [],
   "source": [
    "# Load data\n",
    "projectfolder = '/Users/Symptoms_Documentation/'\n",
    "\n",
    "df_rev1 = pd.read_excel(projectfolder + 'data/Rater1.xlsx')\n",
    "df_rev2 = pd.read_excel(projectfolder + 'data/Rater2.xlsx')\n",
    "\n",
    "df_rev1 = df_rev1.rename(columns={77: 'Study ID', 'Unnamed: 1': 'Note ID'})\n",
    "df_rev2 = df_rev2.rename(columns={'M.Soreness': 'Muscle Soreness', 'Study ID ': 'Study ID', 'Unnamed: 1': 'Note ID'})\n",
    "\n",
    "print(len(df_rev1), len(df_rev2))\n",
    "display(df_rev1.head())\n",
    "display(df_rev2.head())"
   ]
  },
  {
   "cell_type": "code",
   "execution_count": null,
   "id": "59cab0f6",
   "metadata": {},
   "outputs": [],
   "source": [
    "# Patient IDs\n",
    "sample_ids = df_rev1['Study ID'].unique()\n",
    "cramps = [3, 9, 16, 19, 20, 38, 54, 57, 60, 65, 69, 76, 81, 100]\n",
    "dryskin = []\n",
    "fatigue = [61, 93]\n",
    "itching = [2, 3, 6, 9, 10, 11, 16, 31, 37, 38, 60, 62, 75, 77, 83]\n",
    "musclesore = [66, 86, 88, 94, 95]\n",
    "\n",
    "print('cramps: ', np.intersect1d(sample_ids, cramps))\n",
    "print('fatigue: ', np.intersect1d(sample_ids, fatigue))\n",
    "print('itching: ', np.intersect1d(sample_ids, itching))\n",
    "print('muscle soreness: ', np.intersect1d(sample_ids, musclesore))"
   ]
  },
  {
   "cell_type": "code",
   "execution_count": null,
   "id": "3fff2613",
   "metadata": {},
   "outputs": [],
   "source": [
    "symptom_labels = ['Fatigue', 'Cramps', 'Dry skin', 'itching', 'Muscle Soreness']\n",
    "\n",
    "# Select relevant columns \n",
    "df_symp1 = df_rev1[['Study ID', 'Note ID'] + symptom_labels]\n",
    "df_symp2 = df_rev2[['Study ID', 'Note ID'] + symptom_labels]\n",
    "\n",
    "match_list = []\n",
    "uniq_pts = df_symp1['Study ID'].unique()\n",
    "\n",
    "# For each unique patient ID, checks the presence of symptom and records whether each rater flagged the symptom \n",
    "for pt in uniq_pts:\n",
    "    # Filter to patient ID\n",
    "    pt_filt = df_symp1['Study ID'] == pt\n",
    "    # Loop through all the symptoms\n",
    "    for symp in symptom_labels:\n",
    "        # Filters for notes where symptom is present \n",
    "        symp_filt1 = df_symp1[symp] > 0\n",
    "        symp_filt2 = df_symp2[symp] > 0\n",
    "        # Extract note IDs for the symptom \n",
    "        note_id1 = df_symp1.loc[pt_filt & symp_filt1, 'Note ID'].to_list()\n",
    "        note_id2 = df_symp2.loc[pt_filt & symp_filt2, 'Note ID'].to_list()\n",
    "        # Check if the symptom is flagged\n",
    "        flag1 = np.sum(symp_filt1 & pt_filt) > 0\n",
    "        flag2 = np.sum(symp_filt2 & pt_filt) > 0\n",
    "        # Create a dictionary to store matching details \n",
    "        match_obj = {'Study ID': pt, 'Symptom': symp, 'Rater1': flag1, 'Rater2': flag2, \\\n",
    "                     'Rater1 Note IDs': note_id1, 'Rater2 Note IDs': note_id2}\n",
    "        \n",
    "        color1 = 'green'\n",
    "        color2 = 'green'\n",
    "        if flag1:\n",
    "            color1 = 'red'\n",
    "        if flag2:\n",
    "            color2 = 'red'\n",
    "            \n",
    "#         print(pt, symp, colored(flag1, color1), colored(flag2, color2))\n",
    "        # append to a list\n",
    "        match_list.append(match_obj)\n",
    "# turn match_list into a dataframe\n",
    "df_match = pd.DataFrame(match_list)\n",
    "display(df_match)"
   ]
  },
  {
   "cell_type": "code",
   "execution_count": null,
   "id": "a60a07d4",
   "metadata": {},
   "outputs": [],
   "source": [
    "# Save reviewer match\n",
    "df_match.to_csv(projectfolder + 'data/reviewer_match.csv')"
   ]
  }
 ],
 "metadata": {
  "kernelspec": {
   "display_name": "Python 3 (ipykernel)",
   "language": "python",
   "name": "python3"
  },
  "language_info": {
   "codemirror_mode": {
    "name": "ipython",
    "version": 3
   },
   "file_extension": ".py",
   "mimetype": "text/x-python",
   "name": "python",
   "nbconvert_exporter": "python",
   "pygments_lexer": "ipython3",
   "version": "3.8.12"
  }
 },
 "nbformat": 4,
 "nbformat_minor": 5
}
