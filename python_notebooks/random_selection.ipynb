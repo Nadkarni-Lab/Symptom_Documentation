{
 "cells": [
  {
   "cell_type": "code",
   "execution_count": null,
   "id": "f7536f9f",
   "metadata": {},
   "outputs": [],
   "source": [
    "import numpy as np\n",
    "import pandas as pd"
   ]
  },
  {
   "cell_type": "code",
   "execution_count": null,
   "id": "fb40b8e0",
   "metadata": {},
   "outputs": [],
   "source": [
    "# Load data\n",
    "datafolder = '/Users/Symptoms_Documentation/data/'\n",
    "df_data = pd.read_csv(datafolder + 'data.csv')"
   ]
  },
  {
   "cell_type": "code",
   "execution_count": null,
   "id": "43fd9797",
   "metadata": {},
   "outputs": [],
   "source": [
    "display(df_data)"
   ]
  },
  {
   "cell_type": "code",
   "execution_count": null,
   "id": "cae72143",
   "metadata": {},
   "outputs": [],
   "source": [
    "# get race\n",
    "\n",
    "info_filt = ~pd.isna(df_data['mrn'])\n",
    "hispanic_filt = df_data['hispanic'] == 1\n",
    "\n",
    "study_ids = df_data.loc[info_filt, 'studyid']\n",
    "is_hispanic = df_data.loc[info_filt, 'hispanic']\n",
    "\n",
    "study_id_hisp = df_data.loc[info_filt & hispanic_filt, 'studyid'].to_list()\n",
    "study_id_other = df_data.loc[info_filt & ~hispanic_filt, 'studyid'].to_list()\n",
    "\n",
    "import random\n",
    "# sample\n",
    "random_ids_hisp = random.sample(study_id_hisp, 10)\n",
    "random_ids_other = random.sample(study_id_other, 10)\n",
    "\n",
    "df_rand = pd.DataFrame({'studyid (hispanic)': random_ids_hisp, 'studyid (non-hispanic)': random_ids_other})\n",
    "df_rand.to_csv(datafolder + 'random_studyids.csv')"
   ]
  }
 ],
 "metadata": {
  "kernelspec": {
   "display_name": "Python 3 (ipykernel)",
   "language": "python",
   "name": "python3"
  },
  "language_info": {
   "codemirror_mode": {
    "name": "ipython",
    "version": 3
   },
   "file_extension": ".py",
   "mimetype": "text/x-python",
   "name": "python",
   "nbconvert_exporter": "python",
   "pygments_lexer": "ipython3",
   "version": "3.8.12"
  }
 },
 "nbformat": 4,
 "nbformat_minor": 5
}
